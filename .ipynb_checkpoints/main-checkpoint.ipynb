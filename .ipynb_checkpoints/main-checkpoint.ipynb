{
 "cells": [
  {
   "cell_type": "code",
   "execution_count": 2,
   "metadata": {},
   "outputs": [
    {
     "ename": "NameError",
     "evalue": "name 'fs' is not defined",
     "output_type": "error",
     "traceback": [
      "\u001b[1;31m---------------------------------------------------------------------------\u001b[0m",
      "\u001b[1;31mNameError\u001b[0m                                 Traceback (most recent call last)",
      "\u001b[1;32m<ipython-input-2-fe0f87054760>\u001b[0m in \u001b[0;36m<module>\u001b[1;34m()\u001b[0m\n\u001b[0;32m      8\u001b[0m \u001b[0mfeedback\u001b[0m \u001b[1;33m=\u001b[0m \u001b[1;36m0.3\u001b[0m\u001b[1;33m\u001b[0m\u001b[0m\n\u001b[0;32m      9\u001b[0m \u001b[0mdry_wet\u001b[0m \u001b[1;33m=\u001b[0m \u001b[1;36m0.4\u001b[0m\u001b[1;33m\u001b[0m\u001b[0m\n\u001b[1;32m---> 10\u001b[1;33m \u001b[0mdelay_samples\u001b[0m \u001b[1;33m=\u001b[0m \u001b[0mnp\u001b[0m\u001b[1;33m.\u001b[0m\u001b[0mround\u001b[0m\u001b[1;33m(\u001b[0m\u001b[0mdelay_sec\u001b[0m \u001b[1;33m*\u001b[0m \u001b[0mfs\u001b[0m\u001b[1;33m)\u001b[0m\u001b[1;33m\u001b[0m\u001b[0m\n\u001b[0m\u001b[0;32m     11\u001b[0m \u001b[0mdepth_samples\u001b[0m \u001b[1;33m=\u001b[0m \u001b[0mnp\u001b[0m\u001b[1;33m.\u001b[0m\u001b[0mround\u001b[0m\u001b[1;33m(\u001b[0m\u001b[0mdepth\u001b[0m\u001b[1;33m*\u001b[0m\u001b[0mfs\u001b[0m\u001b[1;33m)\u001b[0m\u001b[1;33m;\u001b[0m\u001b[1;33m\u001b[0m\u001b[0m\n\u001b[0;32m     12\u001b[0m \u001b[0mdelay_chnl\u001b[0m \u001b[1;33m=\u001b[0m \u001b[0mnp\u001b[0m\u001b[1;33m.\u001b[0m\u001b[0mzeros\u001b[0m\u001b[1;33m(\u001b[0m\u001b[1;33m[\u001b[0m\u001b[1;36m1024\u001b[0m\u001b[1;33m,\u001b[0m\u001b[1;36m1\u001b[0m\u001b[1;33m]\u001b[0m\u001b[1;33m)\u001b[0m\u001b[1;33m;\u001b[0m\u001b[1;33m\u001b[0m\u001b[0m\n",
      "\u001b[1;31mNameError\u001b[0m: name 'fs' is not defined"
     ]
    }
   ],
   "source": [
    "#chorus config\n",
    "import librosa\n",
    "import numpy as np\n",
    "import math\n",
    "fs = 44100\n",
    "delay_sec = 0.013\n",
    "depth =0.003\n",
    "mod_rate = 3.2  #Hz\n",
    "feedback = 0.3\n",
    "dry_wet = 0.4\n",
    "delay_samples = np.round(delay_sec * fs)\n",
    "depth_samples = np.round(depth*fs);\n",
    "delay_chnl = np.zeros([1024,1]);\n",
    "delay_buf = np.zeros([int(delay_samples+depth_samples)])\n",
    "mod_arg = 2*3.1416*mod_rate/fs;\n",
    "print('done')"
   ]
  },
  {
   "cell_type": "code",
   "execution_count": 1,
   "metadata": {},
   "outputs": [
    {
     "ename": "NameError",
     "evalue": "name 'depth_samples' is not defined",
     "output_type": "error",
     "traceback": [
      "\u001b[1;31m---------------------------------------------------------------------------\u001b[0m",
      "\u001b[1;31mNameError\u001b[0m                                 Traceback (most recent call last)",
      "\u001b[1;32m<ipython-input-1-71e81fc81cbc>\u001b[0m in \u001b[0;36mcallback\u001b[1;34m(in_data, frame_count, time_info, flag)\u001b[0m\n\u001b[0;32m     23\u001b[0m     \u001b[1;32mfor\u001b[0m \u001b[0mi\u001b[0m \u001b[1;32min\u001b[0m \u001b[0mrange\u001b[0m\u001b[1;33m(\u001b[0m\u001b[0mlen\u001b[0m\u001b[1;33m(\u001b[0m\u001b[0mx\u001b[0m\u001b[1;33m)\u001b[0m\u001b[1;33m)\u001b[0m\u001b[1;33m:\u001b[0m\u001b[1;33m\u001b[0m\u001b[0m\n\u001b[0;32m     24\u001b[0m     \u001b[1;31m#   math sin is faster than np sin\u001b[0m\u001b[1;33m\u001b[0m\u001b[1;33m\u001b[0m\u001b[0m\n\u001b[1;32m---> 25\u001b[1;33m         \u001b[0mmodulated_sample\u001b[0m \u001b[1;33m=\u001b[0m \u001b[0mdepth_samples\u001b[0m\u001b[1;33m*\u001b[0m\u001b[0mmath\u001b[0m\u001b[1;33m.\u001b[0m\u001b[0msin\u001b[0m\u001b[1;33m(\u001b[0m\u001b[0mmod_arg\u001b[0m\u001b[1;33m*\u001b[0m\u001b[1;33m(\u001b[0m\u001b[0mi\u001b[0m\u001b[1;33m)\u001b[0m\u001b[1;33m+\u001b[0m\u001b[0mprev_i\u001b[0m\u001b[1;33m)\u001b[0m\u001b[1;33m\u001b[0m\u001b[0m\n\u001b[0m\u001b[0;32m     26\u001b[0m         \u001b[0mmodulated_sample\u001b[0m \u001b[1;33m+=\u001b[0m \u001b[1;33m(\u001b[0m\u001b[0mdelay_samples\u001b[0m\u001b[1;33m-\u001b[0m\u001b[1;36m1\u001b[0m\u001b[1;33m)\u001b[0m\u001b[1;33m\u001b[0m\u001b[0m\n\u001b[0;32m     27\u001b[0m     \u001b[1;31m#   interpolate\u001b[0m\u001b[1;33m\u001b[0m\u001b[1;33m\u001b[0m\u001b[0m\n",
      "\u001b[1;31mNameError\u001b[0m: name 'depth_samples' is not defined"
     ]
    },
    {
     "ename": "NameError",
     "evalue": "",
     "output_type": "error",
     "traceback": [
      "\u001b[1;31m---------------------------------------------------------------------------\u001b[0m",
      "\u001b[1;31mNameError\u001b[0m                                 Traceback (most recent call last)",
      "\u001b[1;32m<ipython-input-1-71e81fc81cbc>\u001b[0m in \u001b[0;36m<module>\u001b[1;34m()\u001b[0m\n\u001b[0;32m     50\u001b[0m \u001b[1;32mtry\u001b[0m\u001b[1;33m:\u001b[0m\u001b[1;33m\u001b[0m\u001b[0m\n\u001b[0;32m     51\u001b[0m     \u001b[1;32mwhile\u001b[0m \u001b[0mstream\u001b[0m\u001b[1;33m.\u001b[0m\u001b[0mis_active\u001b[0m\u001b[1;33m(\u001b[0m\u001b[1;33m)\u001b[0m\u001b[1;33m:\u001b[0m\u001b[1;33m\u001b[0m\u001b[0m\n\u001b[1;32m---> 52\u001b[1;33m         \u001b[0mtime\u001b[0m\u001b[1;33m.\u001b[0m\u001b[0msleep\u001b[0m\u001b[1;33m(\u001b[0m\u001b[1;36m1\u001b[0m\u001b[1;33m)\u001b[0m\u001b[1;33m\u001b[0m\u001b[0m\n\u001b[0m\u001b[0;32m     53\u001b[0m \u001b[1;32mexcept\u001b[0m \u001b[0mKeyboardInterrupt\u001b[0m\u001b[1;33m:\u001b[0m\u001b[1;33m\u001b[0m\u001b[0m\n\u001b[0;32m     54\u001b[0m     \u001b[1;32mpass\u001b[0m\u001b[1;33m\u001b[0m\u001b[0m\n",
      "\u001b[1;31mNameError\u001b[0m: "
     ]
    }
   ],
   "source": [
    "import pyaudio\n",
    "import time\n",
    "import numpy as np\n",
    "from matplotlib import pyplot as plt\n",
    "import scipy.signal as signal\n",
    "\n",
    "\n",
    "\n",
    "CHANNELS = 1\n",
    "\n",
    "\n",
    "p = pyaudio.PyAudio()\n",
    "fulldata = np.array([])\n",
    "dry_data = np.array([])\n",
    "prev_i = 0;\n",
    "\n",
    "def callback(in_data, frame_count, time_info, flag):\n",
    "#     global b,a,fulldata,dry_data,frames\n",
    "    global prev_i,delay_buf\n",
    "    #x shape = 1024\n",
    "    x = np.fromstring(in_data, dtype=np.float32)\n",
    "#     do your audio process here\n",
    "    for i in range(len(x)):\n",
    "    #   math sin is faster than np sin\n",
    "        modulated_sample = depth_samples*math.sin(mod_arg*(i)+prev_i)\n",
    "        modulated_sample += (delay_samples-1)\n",
    "    #   interpolate\n",
    "        interp1 =delay_buf[math.floor(modulated_sample)];\n",
    "        interp2 =delay_buf[math.ceil(modulated_sample)];\n",
    "        query_sample = math.modf(modulated_sample)[0] #get decimal part\n",
    "        delay_chnl[i] = interp1+(interp2-interp1)*query_sample\n",
    "        new_sample= x[i]+delay_chnl[i]*feedback;\n",
    "        delay_buf[-1] = new_sample\n",
    "        delay_buf = np.roll(delay_buf,1)\n",
    "    prev_i = (mod_arg*i)%(3.1415926*2)\n",
    "    out = ((1-dry_wet)*x)+(dry_wet*delay_chnl.flatten())\n",
    "#     end audio process\n",
    "    return (out, pyaudio.paContinue)\n",
    "\n",
    "stream = p.open(format=pyaudio.paFloat32,\n",
    "                channels=CHANNELS,\n",
    "                rate=fs,\n",
    "                output=True,\n",
    "                input=True,\n",
    "                stream_callback=callback)\n",
    "\n",
    "stream.start_stream()\n",
    "\n",
    "# interrupt kernel to break the loop\n",
    "try:\n",
    "    while stream.is_active():\n",
    "        time.sleep(1)\n",
    "except KeyboardInterrupt:\n",
    "    pass\n",
    "stream.stop_stream()\n",
    "\n",
    "stream.close()\n",
    "\n",
    "# numpydata = np.hstack(fulldata)\n",
    "# plt.plot(numpydata)\n",
    "# plt.title(\"Wet\")\n",
    "# plt.show()\n",
    "\n",
    "\n",
    "# numpydata = np.hstack(dry_data)\n",
    "# plt.plot(numpydata)\n",
    "# plt.title(\"Dry\")\n",
    "# plt.show()\n",
    "\n",
    "\n",
    "p.terminate()"
   ]
  },
  {
   "cell_type": "code",
   "execution_count": 2,
   "metadata": {
    "collapsed": true
   },
   "outputs": [],
   "source": [
    "stream.close()\n",
    "p.terminate()"
   ]
  },
  {
   "cell_type": "code",
   "execution_count": 27,
   "metadata": {},
   "outputs": [
    {
     "data": {
      "image/png": "[encoded data removed]",
      "text/plain": [
       "<matplotlib.figure.Figure at 0x1f9b4a589b0>"
      ]
     },
     "metadata": {},
     "output_type": "display_data"
    }
   ],
   "source": [
    "import matplotlib.pyplot as plt\n",
    "import cffi\n",
    "plt.plot(x)\n",
    "plt.show()"
   ]
  },
  {
   "cell_type": "code",
   "execution_count": 16,
   "metadata": {},
   "outputs": [
    {
     "name": "stdout",
     "output_type": "stream",
     "text": [
      "(4096,)\n",
      "(4096,)\n",
      "(4096,)\n",
      "(4096,)\n",
      "(4096,)\n",
      "(4096,)\n",
      "(4096,)\n",
      "(4096,)\n",
      "(4096,)\n",
      "(4096,)\n"
     ]
    }
   ],
   "source": [
    "import pyaudio\n",
    "import numpy as np\n",
    "\n",
    "CHUNK = 4096 # number of data points to read at a time\n",
    "fs = 44100 # time resolution of the recording device (Hz)\n",
    "\n",
    "p=pyaudio.PyAudio() # start the PyAudio class\n",
    "stream=p.open(format=pyaudio.paInt16,channels=1,rate=fs,input=True,\n",
    "              frames_per_buffer=CHUNK) #uses default input device\n",
    "\n",
    "# create a numpy array holding a single read of audio data\n",
    "for i in range(10): #to it a few times just to see\n",
    "    data = np.fromstring(stream.read(CHUNK),dtype=np.int16)\n",
    "    print(data.shape)\n",
    "\n",
    "# close the stream gracefully\n",
    "stream.stop_stream()\n",
    "stream.close()\n",
    "p.terminate()"
   ]
  },
  {
   "cell_type": "code",
   "execution_count": 37,
   "metadata": {
    "collapsed": true
   },
   "outputs": [],
   "source": [
    "def speedx(sound_array, factor):\n",
    "    \"\"\" Multiplies the sound's speed by some `factor` \"\"\"\n",
    "    indices = np.round( np.arange(0, len(sound_array), factor) )\n",
    "    indices = indices[indices < len(sound_array)].astype(int)\n",
    "    return sound_array[ indices.astype(int) ]"
   ]
  },
  {
   "cell_type": "code",
   "execution_count": 52,
   "metadata": {
    "collapsed": true
   },
   "outputs": [],
   "source": [
    "def stretch(sound_array, f, window_size, h):\n",
    "    \"\"\" Stretches the sound by a factor `f` \"\"\"\n",
    "\n",
    "    phase  = np.zeros(window_size)\n",
    "    hanning_window = np.hanning(window_size)\n",
    "    result = np.zeros( int(len(sound_array) /f + window_size))\n",
    "\n",
    "    for i in np.arange(0, len(sound_array)-(window_size+h), h*f):\n",
    "        i = int(i)\n",
    "        # two potentially overlapping subarrays\n",
    "        a1 = sound_array[i: i + window_size]\n",
    "        a2 = sound_array[i + h: i + window_size + h]\n",
    "\n",
    "        # resynchronize the second array on the first\n",
    "        s1 =  np.fft.fft(hanning_window * a1)\n",
    "        s2 =  np.fft.fft(hanning_window * a2)\n",
    "        phase = (phase + np.angle(s2/s1)) % 2*np.pi\n",
    "        a2_rephased = np.fft.ifft(np.abs(s2)*np.exp(1j*phase))\n",
    "\n",
    "        # add to result\n",
    "        i2 = int(i/f)\n",
    "        result[i2 : i2 + window_size] += hanning_window*a2_rephased.astype(float)\n",
    "\n",
    "    result = ((2**(16-4)) * result/result.max()) # normalize (16bit)\n",
    "\n",
    "    return result.astype('int16')"
   ]
  },
  {
   "cell_type": "code",
   "execution_count": 43,
   "metadata": {
    "collapsed": true
   },
   "outputs": [],
   "source": [
    "def pitchshift(snd_array, n, window_size=2**13, h=2**11):\n",
    "    \"\"\" Changes the pitch of a sound by ``n`` semitones. \"\"\"\n",
    "    factor = 2**(1.0 * n / 12.0)\n",
    "    stretched = stretch(snd_array, 1.0/factor, window_size, h)\n",
    "    return speedx(stretched[window_size:], factor)"
   ]
  },
  {
   "cell_type": "code",
   "execution_count": 71,
   "metadata": {},
   "outputs": [
    {
     "name": "stderr",
     "output_type": "stream",
     "text": [
      "C:\\Users\\a1989\\Anaconda3\\lib\\site-packages\\ipykernel_launcher.py:22: ComplexWarning: Casting complex values to real discards the imaginary part\n"
     ]
    },
    {
     "data": {
      "image/png": "[encoded data removed]",
      "text/plain": [
       "<matplotlib.figure.Figure at 0x20d24d43240>"
      ]
     },
     "metadata": {},
     "output_type": "display_data"
    }
   ],
   "source": [
    "import librosa\n",
    "data, fs = librosa.load(\"a.wav\",sr=None)\n",
    "data5 = pitchshift(data,5)\n",
    "\n",
    "plt.plot(data)\n",
    "plt.show()\n",
    "data = data/max(data)\n",
    "data5 = data5/max(data5)\n",
    "\n",
    "data = data5\n",
    "data = 0.3*(data/max(data))\n",
    "p = pyaudio.PyAudio()\n",
    "stream = p.open(format = pyaudio.paFloat32, channels = 1, rate = fs, output = True)\n",
    "stream.write(data.astype(np.float32).tostring())"
   ]
  }
 ],
 "metadata": {
  "kernelspec": {
   "display_name": "Python 3",
   "language": "python",
   "name": "python3"
  }
 },
 "nbformat": 4,
 "nbformat_minor": 2
}
