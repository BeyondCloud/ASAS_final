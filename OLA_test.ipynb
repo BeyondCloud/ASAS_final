{
 "cells": [
  {
   "cell_type": "code",
   "execution_count": 1,
   "metadata": {},
   "outputs": [
    {
     "name": "stdout",
     "output_type": "stream",
     "text": [
      "done\n"
     ]
    }
   ],
   "source": [
    "#chorus config\n",
    "import librosa\n",
    "import numpy as np\n",
    "import math\n",
    "import pyaudio\n",
    "fs = 44100\n",
    "delay_sec = 0.013\n",
    "depth =0.003\n",
    "mod_rate = 3.2  #Hz\n",
    "feedback = 0.3\n",
    "dry_wet = 0.4\n",
    "CHUNK = 4096\n",
    "FORMAT = pyaudio.paFloat32     # audio format (bytes per sample?)\n",
    "CHANNELS = 1                 # single channel for microphone\n",
    "\n",
    "delay_samples = np.round(delay_sec * fs)\n",
    "depth_samples = np.round(depth*fs);\n",
    "\n",
    "mod_arg = 2*3.1416*mod_rate/fs;\n",
    "print('done')"
   ]
  },
  {
   "cell_type": "code",
   "execution_count": 35,
   "metadata": {},
   "outputs": [
    {
     "name": "stdout",
     "output_type": "stream",
     "text": [
      "done\n"
     ]
    }
   ],
   "source": [
    "from ctypes import *\n",
    "prev_i =c_double(0.0)\n",
    "mydll = cdll.LoadLibrary(r\".\\OLA.dll\")\n",
    "out = np.zeros([int(CHUNK)])\n",
    "print('done')"
   ]
  },
  {
   "cell_type": "code",
   "execution_count": 37,
   "metadata": {},
   "outputs": [
    {
     "data": {
      "image/png": "[encoded data removed]",
      "text/plain": [
       "<Figure size 432x288 with 1 Axes>"
      ]
     },
     "metadata": {},
     "output_type": "display_data"
    }
   ],
   "source": [
    "import matplotlib.pyplot as plt\n",
    "\n",
    "x = np.ones([4096])\n",
    "out = np.zeros([4096])\n",
    "x = x.astype('float64');\n",
    "mydll.ola(c_void_p(x.ctypes.data),c_void_p(out.ctypes.data))\n",
    "plt.plot(out)\n",
    "plt.show()\n"
   ]
  },
  {
   "cell_type": "code",
   "execution_count": 34,
   "metadata": {},
   "outputs": [
    {
     "ename": "OSError",
     "evalue": "[WinError 126] 找不到指定的模組。",
     "output_type": "error",
     "traceback": [
      "\u001b[1;31m---------------------------------------------------------------------------\u001b[0m",
      "\u001b[1;31mOSError\u001b[0m                                   Traceback (most recent call last)",
      "\u001b[1;32m<ipython-input-34-466535c43ee8>\u001b[0m in \u001b[0;36m<module>\u001b[1;34m()\u001b[0m\n\u001b[0;32m      1\u001b[0m \u001b[1;32mimport\u001b[0m \u001b[0m_ctypes\u001b[0m\u001b[1;33m\u001b[0m\u001b[0m\n\u001b[1;32m----> 2\u001b[1;33m \u001b[0m_ctypes\u001b[0m\u001b[1;33m.\u001b[0m\u001b[0mFreeLibrary\u001b[0m\u001b[1;33m(\u001b[0m\u001b[0mmydll\u001b[0m\u001b[1;33m.\u001b[0m\u001b[0m_handle\u001b[0m\u001b[1;33m)\u001b[0m\u001b[1;33m\u001b[0m\u001b[0m\n\u001b[0m\u001b[0;32m      3\u001b[0m \u001b[1;31m# _ctypes.FreeLibrary(lib._handle)\u001b[0m\u001b[1;33m\u001b[0m\u001b[1;33m\u001b[0m\u001b[0m\n\u001b[0;32m      4\u001b[0m \u001b[0mprint\u001b[0m\u001b[1;33m(\u001b[0m\u001b[1;34m'done'\u001b[0m\u001b[1;33m)\u001b[0m\u001b[1;33m\u001b[0m\u001b[0m\n",
      "\u001b[1;31mOSError\u001b[0m: [WinError 126] 找不到指定的模組。"
     ]
    }
   ],
   "source": [
    "import _ctypes\n",
    "_ctypes.FreeLibrary(mydll._handle)\n",
    "# _ctypes.FreeLibrary(lib._handle)\n",
    "print('done')"
   ]
  },
  {
   "cell_type": "code",
   "execution_count": 39,
   "metadata": {},
   "outputs": [
    {
     "name": "stdout",
     "output_type": "stream",
     "text": [
      "stream started\n"
     ]
    },
    {
     "name": "stderr",
     "output_type": "stream",
     "text": [
      "E:\\Anaconda\\lib\\site-packages\\ipykernel_launcher.py:25: DeprecationWarning: Numeric-style type codes are deprecated and will result in an error in the future.\n"
     ]
    },
    {
     "ename": "KeyboardInterrupt",
     "evalue": "",
     "output_type": "error",
     "traceback": [
      "\u001b[1;31m---------------------------------------------------------------------------\u001b[0m",
      "\u001b[1;31mKeyboardInterrupt\u001b[0m                         Traceback (most recent call last)",
      "\u001b[1;32m<ipython-input-39-355ba021af3a>\u001b[0m in \u001b[0;36m<module>\u001b[1;34m()\u001b[0m\n\u001b[0;32m     22\u001b[0m     \u001b[1;31m# binary data\u001b[0m\u001b[1;33m\u001b[0m\u001b[1;33m\u001b[0m\u001b[0m\n\u001b[0;32m     23\u001b[0m \u001b[1;33m\u001b[0m\u001b[0m\n\u001b[1;32m---> 24\u001b[1;33m     \u001b[0mdata_byte\u001b[0m \u001b[1;33m=\u001b[0m \u001b[0mstream\u001b[0m\u001b[1;33m.\u001b[0m\u001b[0mread\u001b[0m\u001b[1;33m(\u001b[0m\u001b[0mCHUNK\u001b[0m\u001b[1;33m)\u001b[0m\u001b[1;33m;\u001b[0m\u001b[1;33m\u001b[0m\u001b[0m\n\u001b[0m\u001b[0;32m     25\u001b[0m     \u001b[0mx\u001b[0m \u001b[1;33m=\u001b[0m \u001b[0mnp\u001b[0m\u001b[1;33m.\u001b[0m\u001b[0mfrombuffer\u001b[0m\u001b[1;33m(\u001b[0m\u001b[0mdata_byte\u001b[0m\u001b[1;33m,\u001b[0m \u001b[1;34m'Float32'\u001b[0m\u001b[1;33m)\u001b[0m\u001b[1;33m.\u001b[0m\u001b[0mastype\u001b[0m\u001b[1;33m(\u001b[0m\u001b[1;34m'float64'\u001b[0m\u001b[1;33m)\u001b[0m\u001b[1;33m;\u001b[0m\u001b[1;33m\u001b[0m\u001b[0m\n\u001b[0;32m     26\u001b[0m     \u001b[0mmydll\u001b[0m\u001b[1;33m.\u001b[0m\u001b[0mola\u001b[0m\u001b[1;33m(\u001b[0m\u001b[0mc_void_p\u001b[0m\u001b[1;33m(\u001b[0m\u001b[0mx\u001b[0m\u001b[1;33m.\u001b[0m\u001b[0mctypes\u001b[0m\u001b[1;33m.\u001b[0m\u001b[0mdata\u001b[0m\u001b[1;33m)\u001b[0m\u001b[1;33m,\u001b[0m\u001b[0mc_void_p\u001b[0m\u001b[1;33m(\u001b[0m\u001b[0mout\u001b[0m\u001b[1;33m.\u001b[0m\u001b[0mctypes\u001b[0m\u001b[1;33m.\u001b[0m\u001b[0mdata\u001b[0m\u001b[1;33m)\u001b[0m\u001b[1;33m)\u001b[0m\u001b[1;33m\u001b[0m\u001b[0m\n",
      "\u001b[1;32mE:\\Anaconda\\lib\\site-packages\\pyaudio.py\u001b[0m in \u001b[0;36mread\u001b[1;34m(self, num_frames, exception_on_overflow)\u001b[0m\n\u001b[0;32m    606\u001b[0m                           paCanNotReadFromAnOutputOnlyStream)\n\u001b[0;32m    607\u001b[0m \u001b[1;33m\u001b[0m\u001b[0m\n\u001b[1;32m--> 608\u001b[1;33m         \u001b[1;32mreturn\u001b[0m \u001b[0mpa\u001b[0m\u001b[1;33m.\u001b[0m\u001b[0mread_stream\u001b[0m\u001b[1;33m(\u001b[0m\u001b[0mself\u001b[0m\u001b[1;33m.\u001b[0m\u001b[0m_stream\u001b[0m\u001b[1;33m,\u001b[0m \u001b[0mnum_frames\u001b[0m\u001b[1;33m,\u001b[0m \u001b[0mexception_on_overflow\u001b[0m\u001b[1;33m)\u001b[0m\u001b[1;33m\u001b[0m\u001b[0m\n\u001b[0m\u001b[0;32m    609\u001b[0m \u001b[1;33m\u001b[0m\u001b[0m\n\u001b[0;32m    610\u001b[0m     \u001b[1;32mdef\u001b[0m \u001b[0mget_read_available\u001b[0m\u001b[1;33m(\u001b[0m\u001b[0mself\u001b[0m\u001b[1;33m)\u001b[0m\u001b[1;33m:\u001b[0m\u001b[1;33m\u001b[0m\u001b[0m\n",
      "\u001b[1;31mKeyboardInterrupt\u001b[0m: "
     ]
    }
   ],
   "source": [
    "\n",
    "# pyaudio class instance\n",
    "p = pyaudio.PyAudio()\n",
    "# stream object to get data from microphone\n",
    "stream = p.open(\n",
    "    format=FORMAT,\n",
    "    channels=CHANNELS,\n",
    "    rate=fs,\n",
    "    input=True,\n",
    "    output=True,\n",
    "    frames_per_buffer=CHUNK\n",
    ")\n",
    "\n",
    "print('stream started')\n",
    "# for measuring frame rate\n",
    "frame_count = 0\n",
    "delay_chnl = np.zeros([CHUNK,1]);\n",
    "delay_buf = np.zeros([int(delay_samples+depth_samples)])\n",
    "# prev_i = 0;\n",
    "mydll = cdll.LoadLibrary(r\".\\OLA.dll\")\n",
    "while True:\n",
    "    # binary data\n",
    "\n",
    "    data_byte = stream.read(CHUNK);\n",
    "    x = np.frombuffer(data_byte, 'Float32').astype('float64');\n",
    "    mydll.ola(c_void_p(x.ctypes.data),c_void_p(out.ctypes.data))\n",
    "\n",
    "    encoded =  out.astype('float32').tobytes()\n",
    "    \n",
    "    stream.write(encoded)\n",
    "\n",
    "stream.stop_stream() # pause audio stream\n",
    "stream.close() # close audio stream\n",
    "\n",
    "_ctypes.FreeLibrary(mydll._handle)"
   ]
  },
  {
   "cell_type": "code",
   "execution_count": 190,
   "metadata": {},
   "outputs": [
    {
     "data": {
      "image/png": "[encoded data removed]",
      "text/plain": [
       "<Figure size 432x288 with 1 Axes>"
      ]
     },
     "metadata": {},
     "output_type": "display_data"
    }
   ],
   "source": [
    "import matplotlib.pyplot as plt\n",
    "plt.plot(out)\n",
    "plt.show()\n"
   ]
  },
  {
   "cell_type": "code",
   "execution_count": 38,
   "metadata": {},
   "outputs": [
    {
     "name": "stdout",
     "output_type": "stream",
     "text": [
      "4096\n",
      "[0.99999787 0.99999786 0.99999786 0.99999785 0.99999785 0.99999784\n",
      " 0.99999784 0.99999783 0.99999783 0.99999783 0.99999782 0.99999782\n",
      " 0.99999781 0.99999781 0.9999978  0.9999978  0.99999779 0.99999779\n",
      " 0.99999778 0.99999778 0.99999778 0.99999777 0.99999777 0.99999776\n",
      " 0.99999776 0.99999775 0.99999775 0.99999774 0.99999774 0.99999774\n",
      " 0.99999773 0.99999773 0.99999772 0.99999772 0.99999771 0.99999771\n",
      " 0.9999977  0.9999977  0.9999977  0.99999769 0.99999769 0.99999768\n",
      " 0.99999768 0.99999767 0.99999767 0.99999767 0.99999766 0.99999766\n",
      " 0.99999765 0.99999765 0.99999764 0.99999764 0.99999764 0.99999763\n",
      " 0.99999763 0.99999762 0.99999762 0.99999761 0.99999761 0.99999761\n",
      " 0.9999976  0.9999976  0.99999759 0.99999759 0.99999758 0.99999758\n",
      " 0.99999758 0.99999757 0.99999757 0.99999756 0.99999756 0.99999755\n",
      " 0.99999755 0.99999755 0.99999754 0.99999754 0.99999753 0.99999753\n",
      " 0.99999752 0.99999752 0.99999752 0.99999751 0.99999751 0.9999975\n",
      " 0.9999975  0.9999975  0.99999749 0.99999749 0.99999748 0.99999748\n",
      " 0.99999748 0.99999747 0.99999747 0.99999746 0.99999746 0.99999745]\n"
     ]
    }
   ],
   "source": [
    "print(CHUNK)\n",
    "print(out[404:500])\n"
   ]
  }
 ],
 "metadata": {
  "kernelspec": {
   "display_name": "Python 3",
   "language": "python",
   "name": "python3"
  },
  "language_info": {
   "codemirror_mode": {
    "name": "ipython",
    "version": 3
   },
   "file_extension": ".py",
   "mimetype": "text/x-python",
   "name": "python",
   "nbconvert_exporter": "python",
   "pygments_lexer": "ipython3",
   "version": "3.6.1"
  }
 },
 "nbformat": 4,
 "nbformat_minor": 2
}
