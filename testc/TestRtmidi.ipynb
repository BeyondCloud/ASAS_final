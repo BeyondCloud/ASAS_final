{
 "cells": [
  {
   "cell_type": "code",
   "execution_count": 14,
   "metadata": {},
   "outputs": [
    {
     "name": "stdout",
     "output_type": "stream",
     "text": [
      "Roland Digital Piano 0\n",
      "Opening port 0!\n",
      "[144, 47, 38]\n",
      "[144, 48, 46]\n",
      "[128, 47, 108]\n",
      "[128, 48, 105]\n"
     ]
    },
    {
     "ename": "KeyboardInterrupt",
     "evalue": "",
     "output_type": "error",
     "traceback": [
      "\u001b[1;31m---------------------------------------------------------------------------\u001b[0m",
      "\u001b[1;31mKeyboardInterrupt\u001b[0m                         Traceback (most recent call last)",
      "\u001b[1;32m<ipython-input-14-939f82fb4392>\u001b[0m in \u001b[0;36m<module>\u001b[1;34m()\u001b[0m\n\u001b[0;32m     16\u001b[0m     \u001b[0mmidiin\u001b[0m\u001b[1;33m.\u001b[0m\u001b[0mopen_port\u001b[0m\u001b[1;33m(\u001b[0m\u001b[1;36m0\u001b[0m\u001b[1;33m)\u001b[0m\u001b[1;33m\u001b[0m\u001b[0m\n\u001b[0;32m     17\u001b[0m     \u001b[1;32mwhile\u001b[0m \u001b[1;32mTrue\u001b[0m\u001b[1;33m:\u001b[0m\u001b[1;33m\u001b[0m\u001b[0m\n\u001b[1;32m---> 18\u001b[1;33m         \u001b[0mm\u001b[0m \u001b[1;33m=\u001b[0m \u001b[0mmidiin\u001b[0m\u001b[1;33m.\u001b[0m\u001b[0mget_message\u001b[0m\u001b[1;33m(\u001b[0m\u001b[1;33m)\u001b[0m \u001b[1;31m# some timeout in ms\u001b[0m\u001b[1;33m\u001b[0m\u001b[0m\n\u001b[0m\u001b[0;32m     19\u001b[0m         \u001b[1;32mif\u001b[0m \u001b[0mm\u001b[0m\u001b[1;33m:\u001b[0m\u001b[1;33m\u001b[0m\u001b[0m\n\u001b[0;32m     20\u001b[0m             \u001b[0mprint\u001b[0m\u001b[1;33m(\u001b[0m\u001b[0mm\u001b[0m\u001b[1;33m[\u001b[0m\u001b[1;36m0\u001b[0m\u001b[1;33m]\u001b[0m\u001b[1;33m)\u001b[0m\u001b[1;33m\u001b[0m\u001b[0m\n",
      "\u001b[1;31mKeyboardInterrupt\u001b[0m: "
     ]
    }
   ],
   "source": [
    "import rtmidi\n",
    "midiin = rtmidi.MidiIn()\n",
    "def print_message(midi):\n",
    "    if midi.isNoteOn():\n",
    "        print('ON: ', midi.getMidiNoteName(midi.getNoteNumber()), midi.getVelocity())\n",
    "    elif midi.isNoteOff():\n",
    "        print('OFF:', midi.getMidiNoteName(midi.getNoteNumber()))\n",
    "    elif midi.isController():\n",
    "        print('CONTROLLER', midi.getControllerNumber(), midi.getControllerValue())\n",
    "\n",
    "ports = range(midiin.get_port_count())\n",
    "if ports:\n",
    "    for i in ports:\n",
    "        print(midiin.get_port_name(i))\n",
    "    print(\"Opening port 0!\") \n",
    "    midiin.open_port(0)\n",
    "    while True:\n",
    "        m = midiin.get_message() # some timeout in ms\n",
    "        if m:\n",
    "            print(m[0])\n",
    "else:\n",
    "    print('NO MIDI INPUT PORTS!')\n",
    "ports.stop()"
   ]
  },
  {
   "cell_type": "code",
   "execution_count": 13,
   "metadata": {},
   "outputs": [
    {
     "name": "stdout",
     "output_type": "stream",
     "text": [
      "[1.  2.  2.5]\n"
     ]
    }
   ],
   "source": [
    "import numpy as np\n",
    "a = np.array([1, 2, 2.5])\n",
    "b = a.astype('float')\n",
    "print(b)"
   ]
  }
 ],
 "metadata": {
  "kernelspec": {
   "display_name": "Python 3",
   "language": "python",
   "name": "python3"
  }
 },
 "nbformat": 4,
 "nbformat_minor": 2
}
