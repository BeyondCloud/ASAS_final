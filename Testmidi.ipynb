{
 "cells": [
  {
   "cell_type": "code",
   "execution_count": 7,
   "metadata": {},
   "outputs": [
    {
     "data": {
      "text/plain": [
       "[144, 60, 64]"
      ]
     },
     "execution_count": 7,
     "metadata": {},
     "output_type": "execute_result"
    }
   ],
   "source": [
    "import mido\n",
    "msg = mido.Message('note_on', note=60)\n",
    "msg.note\n",
    "msg.bytes()"
   ]
  },
  {
   "cell_type": "code",
   "execution_count": 1,
   "metadata": {},
   "outputs": [
    {
     "name": "stdout",
     "output_type": "stream",
     "text": [
      "starting\n",
      "exit button clicked.\n"
     ]
    }
   ],
   "source": [
    "import pygame\n",
    "import pygame.midi\n",
    "from pygame.locals import *\n",
    "from giantwin32 import *\n",
    "pygame.init()\n",
    "pygame.midi.init()\n",
    "pygame.fastevent.init()\n",
    "event_get = pygame.fastevent.get\n",
    "\n",
    "\n",
    "# input_id = pygame.midi.get_default_input_id()\n",
    "# print(input_id)\n",
    "# i = pygame.midi.Input( input_id )\n",
    "\n",
    "# pygame.display.set_caption(\"midi test\")\n",
    "screen = pygame.display.set_mode((400, 300), RESIZABLE, 32)\n",
    "\n",
    "print(\"starting\")\n",
    "\n",
    "going = True\n",
    "\n",
    "while going:\n",
    "\n",
    "        events = event_get()\n",
    "        for e in events:\n",
    "                if e.type in [QUIT]:\n",
    "                        going = False\n",
    "                if e.type in [KEYDOWN]:\n",
    "                        going = False\n",
    "\n",
    "print(\"exit button clicked.\")\n",
    "\n",
    "pygame.midi.quit()\n",
    "pygame.quit()\n",
    "\n"
   ]
  },
  {
   "cell_type": "code",
   "execution_count": 2,
   "metadata": {},
   "outputs": [
    {
     "name": "stdout",
     "output_type": "stream",
     "text": [
      "(b'MMSystem', b'Microsoft MIDI Mapper', 0, 1, 0)\n",
      "(b'MMSystem', b'Roland Digital Piano', 1, 0, 0)\n",
      "(b'MMSystem', b'Microsoft GS Wavetable Synth', 0, 1, 0)\n",
      "(b'MMSystem', b'Roland Digital Piano', 0, 1, 0)\n",
      "done\n"
     ]
    }
   ],
   "source": [
    "import sys, pygame, pygame.midi\n",
    "# pygame.init()\n",
    "pygame.midi.init()\n",
    "for x in range( 0, pygame.midi.get_count() ):\n",
    "    print(pygame.midi.get_device_info(x))\n",
    "\n",
    "# open a specific midi device\n",
    "inp = pygame.midi.Input(1)\n",
    "inp.close()\n",
    "print('done')"
   ]
  },
  {
   "cell_type": "code",
   "execution_count": 3,
   "metadata": {},
   "outputs": [
    {
     "name": "stdout",
     "output_type": "stream",
     "text": [
      "(b'MMSystem', b'Microsoft MIDI Mapper', 0, 1, 0)\n",
      "(b'MMSystem', b'Roland Digital Piano', 1, 0, 0)\n",
      "(b'MMSystem', b'Microsoft GS Wavetable Synth', 0, 1, 0)\n",
      "(b'MMSystem', b'Roland Digital Piano', 0, 1, 0)\n",
      "7  note on\n",
      "[0. 0. 0. 0. 0. 0. 0. 1. 0. 0. 0. 0.]\n",
      "4  note on\n",
      "[0. 0. 0. 0. 1. 0. 0. 1. 0. 0. 0. 0.]\n",
      "11  note on\n",
      "[0. 0. 0. 0. 1. 0. 0. 1. 0. 0. 0. 1.]\n",
      "0  note on\n",
      "[1. 0. 0. 0. 1. 0. 0. 1. 0. 0. 0. 1.]\n",
      "7  note off\n",
      "4  note off\n",
      "0  note off\n",
      "11  note off\n",
      "done\n"
     ]
    }
   ],
   "source": [
    "import sys, pygame, pygame.midi\n",
    "from pygame.locals import *\n",
    "from giantwin32 import *\n",
    "import numpy as np\n",
    " # set up pygame\n",
    "pygame.init() #for fastevent\n",
    "pygame.midi.init()\n",
    "pygame.fastevent.init()\n",
    "event_get = pygame.fastevent.get\n",
    "# list all midi devices\n",
    "for x in range( 0, pygame.midi.get_count() ):\n",
    "    print(pygame.midi.get_device_info(x))\n",
    "# open a specific midi device\n",
    "inp = pygame.midi.Input(1)\n",
    "screen = pygame.display.set_mode((400, 300), RESIZABLE, 32)\n",
    "\n",
    "going = True\n",
    "key_set = set([]) # C#~B\n",
    "\n",
    "# run the event loop\n",
    "while going:\n",
    "    events = event_get()\n",
    "    for e in events:\n",
    "            if e.type in [QUIT]:\n",
    "                    going = False\n",
    "            if e.type in [KEYDOWN]:\n",
    "                    going = False\n",
    "    if inp.poll():\n",
    "        msg = inp.read(100)\n",
    "        if(msg[0][0][0] == 144):\n",
    "            key_on = (msg[0][0][1])%12\n",
    "            key_set.add(key_on);\n",
    "            print(key_on,' note on')\n",
    "        elif(msg[0][0][0] == 128):\n",
    "            key_off = (msg[0][0][1])%12\n",
    "            if key_off in key_set: \n",
    "                key_set.remove(key_off)\n",
    "            print(key_off,' note off')\n",
    "        input_key = np.array(list(b))\n",
    "        if input_key.size<=4:\n",
    "        else:\n",
    "            \n",
    "    # wait 10ms - this is arbitrary, but wait(0) still resulted\n",
    "    # in 100% cpu utilization\n",
    "inp.close()\n",
    "pygame.midi.quit()\n",
    "pygame.quit()\n",
    "print('done')"
   ]
  },
  {
   "cell_type": "code",
   "execution_count": 18,
   "metadata": {},
   "outputs": [
    {
     "name": "stdout",
     "output_type": "stream",
     "text": [
      "{3, 4}\n",
      "{4}\n",
      "[0 0 0 4 0 0 0]\n"
     ]
    }
   ],
   "source": [
    "b  = set([4])\n",
    "b.add(3)\n",
    "print(b)\n",
    "if 3 in b: \n",
    "    b.remove(3)\n",
    "print(b)  \n",
    "B = np.array(list(b))\n",
    "B = np.pad(B, (3), 'constant', constant_values=(0))\n",
    "print(B)"
   ]
  }
 ],
 "metadata": {
  "kernelspec": {
   "display_name": "Python 3",
   "language": "python",
   "name": "python3"
  },
  "language_info": {
   "codemirror_mode": {
    "name": "ipython",
    "version": 3
   },
   "file_extension": ".py",
   "mimetype": "text/x-python",
   "name": "python",
   "nbconvert_exporter": "python",
   "pygments_lexer": "ipython3",
   "version": "3.6.1"
  }
 },
 "nbformat": 4,
 "nbformat_minor": 2
}
