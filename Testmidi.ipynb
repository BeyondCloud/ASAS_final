{
 "cells": [
  {
   "cell_type": "code",
   "execution_count": 7,
   "metadata": {},
   "outputs": [
    {
     "data": {
      "text/plain": [
       "[144, 60, 64]"
      ]
     },
     "execution_count": 7,
     "metadata": {},
     "output_type": "execute_result"
    }
   ],
   "source": [
    "import mido\n",
    "msg = mido.Message('note_on', note=60)\n",
    "msg.note\n",
    "msg.bytes()"
   ]
  },
  {
   "cell_type": "code",
   "execution_count": 1,
   "metadata": {},
   "outputs": [
    {
     "name": "stdout",
     "output_type": "stream",
     "text": [
      "starting\n",
      "exit button clicked.\n"
     ]
    }
   ],
   "source": [
    "import pygame\n",
    "import pygame.midi\n",
    "from pygame.locals import *\n",
    "from giantwin32 import *\n",
    "pygame.init()\n",
    "pygame.midi.init()\n",
    "pygame.fastevent.init()\n",
    "event_get = pygame.fastevent.get\n",
    "\n",
    "\n",
    "# input_id = pygame.midi.get_default_input_id()\n",
    "# print(input_id)\n",
    "# i = pygame.midi.Input( input_id )\n",
    "\n",
    "# pygame.display.set_caption(\"midi test\")\n",
    "screen = pygame.display.set_mode((400, 300), RESIZABLE, 32)\n",
    "\n",
    "print(\"starting\")\n",
    "\n",
    "going = True\n",
    "\n",
    "while going:\n",
    "\n",
    "        events = event_get()\n",
    "        for e in events:\n",
    "                if e.type in [QUIT]:\n",
    "                        going = False\n",
    "                if e.type in [KEYDOWN]:\n",
    "                        going = False\n",
    "\n",
    "print(\"exit button clicked.\")\n",
    "\n",
    "pygame.midi.quit()\n",
    "pygame.quit()\n",
    "\n"
   ]
  },
  {
   "cell_type": "code",
   "execution_count": 2,
   "metadata": {},
   "outputs": [
    {
     "name": "stdout",
     "output_type": "stream",
     "text": [
      "(b'MMSystem', b'Microsoft MIDI Mapper', 0, 1, 0)\n",
      "(b'MMSystem', b'Roland Digital Piano', 1, 0, 0)\n",
      "(b'MMSystem', b'Microsoft GS Wavetable Synth', 0, 1, 0)\n",
      "(b'MMSystem', b'Roland Digital Piano', 0, 1, 0)\n",
      "done\n"
     ]
    }
   ],
   "source": [
    "import sys, pygame, pygame.midi\n",
    "# pygame.init()\n",
    "pygame.midi.init()\n",
    "for x in range( 0, pygame.midi.get_count() ):\n",
    "    print(pygame.midi.get_device_info(x))\n",
    "\n",
    "# open a specific midi device\n",
    "inp = pygame.midi.Input(1)\n",
    "inp.close()\n",
    "print('done')"
   ]
  },
  {
   "cell_type": "code",
   "execution_count": 5,
   "metadata": {},
   "outputs": [
    {
     "ename": "error",
     "evalue": "video system not initialized",
     "output_type": "error",
     "traceback": [
      "\u001b[1;31m---------------------------------------------------------------------------\u001b[0m",
      "\u001b[1;31merror\u001b[0m                                     Traceback (most recent call last)",
      "\u001b[1;32m<ipython-input-5-5fc7ccf44fc6>\u001b[0m in \u001b[0;36m<module>\u001b[1;34m()\u001b[0m\n\u001b[0;32m      5\u001b[0m \u001b[1;33m\u001b[0m\u001b[0m\n\u001b[0;32m      6\u001b[0m \u001b[0mpygame\u001b[0m\u001b[1;33m.\u001b[0m\u001b[0mmidi\u001b[0m\u001b[1;33m.\u001b[0m\u001b[0minit\u001b[0m\u001b[1;33m(\u001b[0m\u001b[1;33m)\u001b[0m\u001b[1;33m\u001b[0m\u001b[0m\n\u001b[1;32m----> 7\u001b[1;33m \u001b[0mpygame\u001b[0m\u001b[1;33m.\u001b[0m\u001b[0mfastevent\u001b[0m\u001b[1;33m.\u001b[0m\u001b[0minit\u001b[0m\u001b[1;33m(\u001b[0m\u001b[1;33m)\u001b[0m\u001b[1;33m\u001b[0m\u001b[0m\n\u001b[0m\u001b[0;32m      8\u001b[0m \u001b[0mevent_get\u001b[0m \u001b[1;33m=\u001b[0m \u001b[0mpygame\u001b[0m\u001b[1;33m.\u001b[0m\u001b[0mfastevent\u001b[0m\u001b[1;33m.\u001b[0m\u001b[0mget\u001b[0m\u001b[1;33m\u001b[0m\u001b[0m\n\u001b[0;32m      9\u001b[0m \u001b[1;33m\u001b[0m\u001b[0m\n",
      "\u001b[1;31merror\u001b[0m: video system not initialized"
     ]
    }
   ],
   "source": [
    "import sys, pygame, pygame.midi\n",
    "from pygame.locals import *\n",
    "from giantwin32 import *\n",
    " # set up pygame\n",
    "\n",
    "pygame.midi.init()\n",
    "pygame.init() \n",
    "pygame.fastevent.init()\n",
    "event_get = pygame.fastevent.get\n",
    "\n",
    "# list all midi devices\n",
    "for x in range( 0, pygame.midi.get_count() ):\n",
    "    print(pygame.midi.get_device_info(x))\n",
    "\n",
    "# open a specific midi device\n",
    "\n",
    "\n",
    "inp = pygame.midi.Input(1)\n",
    "    \n",
    "\n",
    "screen = pygame.display.set_mode((400, 300), RESIZABLE, 32)\n",
    "\n",
    "going = True\n",
    "# run the event loop\n",
    "while going:\n",
    "    events = event_get()\n",
    "    for e in events:\n",
    "            if e.type in [QUIT]:\n",
    "                    going = False\n",
    "            if e.type in [KEYDOWN]:\n",
    "                    going = False\n",
    "    if inp.poll():\n",
    "     # no way to find number of messages in queue\n",
    "     # so we just specify a high max value\n",
    "        msg = inp.read(50)\n",
    "        if(msg[0][0][0] == 144):\n",
    "            print(msg[0][0][:2])\n",
    "        if(msg[0][0][0] == 128):\n",
    "            print(msg[0][0][:2])\n",
    "            \n",
    "\n",
    "    # wait 10ms - this is arbitrary, but wait(0) still resulted\n",
    "    # in 100% cpu utilization\n",
    "inp.close()\n",
    "pygame.midi.quit()\n",
    "pygame.quit()\n",
    "print('done')"
   ]
  }
 ],
 "metadata": {
  "kernelspec": {
   "display_name": "Python 3",
   "language": "python",
   "name": "python3"
  },
  "language_info": {
   "codemirror_mode": {
    "name": "ipython",
    "version": 3
   },
   "file_extension": ".py",
   "mimetype": "text/x-python",
   "name": "python",
   "nbconvert_exporter": "python",
   "pygments_lexer": "ipython3",
   "version": "3.6.1"
  }
 },
 "nbformat": 4,
 "nbformat_minor": 2
}
