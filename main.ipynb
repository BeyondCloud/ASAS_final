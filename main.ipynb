{
 "cells": [
  {
   "cell_type": "code",
   "execution_count": 49,
   "metadata": {},
   "outputs": [
    {
     "name": "stdout",
     "output_type": "stream",
     "text": [
      "done\n"
     ]
    }
   ],
   "source": [
    "#chorus config\n",
    "import librosa\n",
    "import numpy as np\n",
    "import math\n",
    "fs = 22050\n",
    "delay_sec = 0.013\n",
    "depth =0.003\n",
    "mod_rate = 3.2  #Hz\n",
    "feedback = 0.3\n",
    "dry_wet = 0.4\n",
    "delay_samples = np.round(delay_sec * fs)\n",
    "depth_samples = np.round(depth*fs);\n",
    "delay_chnl = np.zeros([1024,1]);\n",
    "delay_buf = np.zeros([int(delay_samples+depth_samples)])\n",
    "mod_arg = 2*3.1416*mod_rate/fs;\n",
    "print('done')"
   ]
  },
  {
   "cell_type": "code",
   "execution_count": 61,
   "metadata": {},
   "outputs": [
    {
     "name": "stdout",
     "output_type": "stream",
     "text": [
      "[  0.00000000e+00   0.00000000e+00  -3.05175781e-05 ...,   0.00000000e+00\n",
      "   0.00000000e+00   0.00000000e+00]\n",
      "[  0.00000000e+00   0.00000000e+00   0.00000000e+00 ...,   6.10351562e-05\n",
      "   6.10351562e-05   6.10351562e-05]\n",
      "[-0.00015259 -0.00015259 -0.00012207 ...,  0.00079346  0.00082397\n",
      "  0.00076294]\n",
      "[-0.00073242 -0.00076294 -0.00082397 ..., -0.00064087 -0.00057983\n",
      " -0.0005188 ]\n",
      "[ 0.00091553  0.00091553  0.00079346 ..., -0.00045776 -0.00045776\n",
      " -0.00061035]\n",
      "[ 0.00036621  0.00042725  0.00036621 ...,  0.00299072  0.00323486\n",
      "  0.00332642]\n",
      "[ 0.07165527  0.07177734  0.07177734 ...,  0.1512146   0.15127563\n",
      "  0.15115356]\n",
      "[ 0.25793457  0.25778198  0.25759888 ...,  0.28436279  0.28448486\n",
      "  0.28463745]\n",
      "[ 0.27093506  0.27090454  0.27087402 ...,  0.23513794  0.23504639\n",
      "  0.23495483]\n"
     ]
    }
   ],
   "source": [
    "import pyaudio\n",
    "import time\n",
    "import numpy as np\n",
    "from matplotlib import pyplot as plt\n",
    "import scipy.signal as signal\n",
    "\n",
    "\n",
    "\n",
    "CHANNELS = 1\n",
    "\n",
    "\n",
    "p = pyaudio.PyAudio()\n",
    "fulldata = np.array([])\n",
    "dry_data = np.array([])\n",
    "prev_i = 1;\n",
    "z = np.array([])\n",
    "def callback(in_data, frame_count, time_info, flag):\n",
    "#     global b,a,fulldata,dry_data,frames\n",
    "    global prev_i,delay_buf,x,z\n",
    "    #x shape = 1024\n",
    "    x = np.fromstring(in_data, dtype=np.float32)\n",
    "\n",
    "    return (x, pyaudio.paContinue)\n",
    "\n",
    "stream = p.open(format=pyaudio.paFloat32,\n",
    "                channels=CHANNELS,\n",
    "                rate=fs,\n",
    "                output=True,\n",
    "                input=True,\n",
    "                stream_callback=callback)\n",
    "\n",
    "stream.start_stream()\n",
    "\n",
    "# interrupt kernel to break the loop\n",
    "try:\n",
    "    while stream.is_active():\n",
    "        time.sleep(0.02)\n",
    "        # #     do your audio process here\n",
    "        for i in range(len(x)):\n",
    "        #   math sin is faster than np sin\n",
    "            modulated_sample = depth_samples*math.sin(mod_arg*(i)+prev_i)\n",
    "            modulated_sample += (delay_samples-1)\n",
    "        #   interpolate\n",
    "            interp1 =delay_buf[math.floor(modulated_sample)];\n",
    "            interp2 =delay_buf[math.ceil(modulated_sample)];\n",
    "            query_sample = math.modf(modulated_sample)[0] #get decimal part\n",
    "            delay_chnl[i] = interp1+(interp2-interp1)*query_sample\n",
    "            new_sample= x[i]+delay_chnl[i]*feedback;\n",
    "            delay_buf[-1] = new_sample\n",
    "            delay_buf = np.roll(delay_buf,1)\n",
    "        prev_i = (mod_arg*(i)+prev_i)%(3.1416*2)\n",
    "        z = np.concatenate((z,delay_buf))\n",
    "        out = ((1-dry_wet)*x)+(dry_wet*delay_chnl.flatten())\n",
    "        #  end audio process\n",
    "except KeyboardInterrupt:\n",
    "    pass\n",
    "stream.stop_stream()\n",
    "\n",
    "stream.close()\n",
    "\n",
    "# numpydata = np.hstack(fulldata)\n",
    "# plt.plot(numpydata)\n",
    "# plt.title(\"Wet\")\n",
    "# plt.show()\n",
    "\n",
    "\n",
    "# numpydata = np.hstack(dry_data)\n",
    "# plt.plot(numpydata)\n",
    "# plt.title(\"Dry\")\n",
    "# plt.show()\n",
    "\n",
    "\n",
    "p.terminate()"
   ]
  },
  {
   "cell_type": "code",
   "execution_count": 62,
   "metadata": {
    "collapsed": true
   },
   "outputs": [],
   "source": [
    "stream.close()\n",
    "p.terminate()"
   ]
  },
  {
   "cell_type": "code",
   "execution_count": 45,
   "metadata": {},
   "outputs": [
    {
     "name": "stdout",
     "output_type": "stream",
     "text": [
      "9.265358966049026e-05\n"
     ]
    }
   ],
   "source": [
    "z = np.array([])\n",
    "a = np.array([1,2])\n",
    "z = np.concatenate((z,a))\n",
    "print(math.sin(3.1415))"
   ]
  },
  {
   "cell_type": "code",
   "execution_count": 55,
   "metadata": {},
   "outputs": [
    {
     "data": {
      "image/png": "[encoded data removed]",
      "text/plain": [
       "<matplotlib.figure.Figure at 0x2b385df2978>"
      ]
     },
     "metadata": {},
     "output_type": "display_data"
    }
   ],
   "source": [
    "import matplotlib.pyplot as plt\n",
    "plt.plot(z)\n",
    "plt.show()"
   ]
  },
  {
   "cell_type": "code",
   "execution_count": 48,
   "metadata": {},
   "outputs": [
    {
     "data": {
      "image/png": "[encoded data removed]",
      "text/plain": [
       "<matplotlib.figure.Figure at 0x2b3870d0518>"
      ]
     },
     "metadata": {},
     "output_type": "display_data"
    }
   ],
   "source": [
    "import matplotlib.pyplot as plt\n",
    "plt.plot(delay_buf)\n",
    "plt.show()"
   ]
  },
  {
   "cell_type": "code",
   "execution_count": 16,
   "metadata": {},
   "outputs": [
    {
     "name": "stdout",
     "output_type": "stream",
     "text": [
      "(4096,)\n",
      "(4096,)\n",
      "(4096,)\n",
      "(4096,)\n",
      "(4096,)\n",
      "(4096,)\n",
      "(4096,)\n",
      "(4096,)\n",
      "(4096,)\n",
      "(4096,)\n"
     ]
    }
   ],
   "source": [
    "import pyaudio\n",
    "import numpy as np\n",
    "\n",
    "CHUNK = 4096 # number of data points to read at a time\n",
    "fs = 44100 # time resolution of the recording device (Hz)\n",
    "\n",
    "p=pyaudio.PyAudio() # start the PyAudio class\n",
    "stream=p.open(format=pyaudio.paInt16,channels=1,rate=fs,input=True,\n",
    "              frames_per_buffer=CHUNK) #uses default input device\n",
    "\n",
    "# create a numpy array holding a single read of audio data\n",
    "for i in range(10): #to it a few times just to see\n",
    "    data = np.fromstring(stream.read(CHUNK),dtype=np.int16)\n",
    "    print(data.shape)\n",
    "\n",
    "# close the stream gracefully\n",
    "stream.stop_stream()\n",
    "stream.close()\n",
    "p.terminate()"
   ]
  },
  {
   "cell_type": "code",
   "execution_count": 37,
   "metadata": {
    "collapsed": true
   },
   "outputs": [],
   "source": [
    "def speedx(sound_array, factor):\n",
    "    \"\"\" Multiplies the sound's speed by some `factor` \"\"\"\n",
    "    indices = np.round( np.arange(0, len(sound_array), factor) )\n",
    "    indices = indices[indices < len(sound_array)].astype(int)\n",
    "    return sound_array[ indices.astype(int) ]"
   ]
  },
  {
   "cell_type": "code",
   "execution_count": 52,
   "metadata": {
    "collapsed": true
   },
   "outputs": [],
   "source": [
    "def stretch(sound_array, f, window_size, h):\n",
    "    \"\"\" Stretches the sound by a factor `f` \"\"\"\n",
    "\n",
    "    phase  = np.zeros(window_size)\n",
    "    hanning_window = np.hanning(window_size)\n",
    "    result = np.zeros( int(len(sound_array) /f + window_size))\n",
    "\n",
    "    for i in np.arange(0, len(sound_array)-(window_size+h), h*f):\n",
    "        i = int(i)\n",
    "        # two potentially overlapping subarrays\n",
    "        a1 = sound_array[i: i + window_size]\n",
    "        a2 = sound_array[i + h: i + window_size + h]\n",
    "\n",
    "        # resynchronize the second array on the first\n",
    "        s1 =  np.fft.fft(hanning_window * a1)\n",
    "        s2 =  np.fft.fft(hanning_window * a2)\n",
    "        phase = (phase + np.angle(s2/s1)) % 2*np.pi\n",
    "        a2_rephased = np.fft.ifft(np.abs(s2)*np.exp(1j*phase))\n",
    "\n",
    "        # add to result\n",
    "        i2 = int(i/f)\n",
    "        result[i2 : i2 + window_size] += hanning_window*a2_rephased.astype(float)\n",
    "\n",
    "    result = ((2**(16-4)) * result/result.max()) # normalize (16bit)\n",
    "\n",
    "    return result.astype('int16')"
   ]
  },
  {
   "cell_type": "code",
   "execution_count": 43,
   "metadata": {
    "collapsed": true
   },
   "outputs": [],
   "source": [
    "def pitchshift(snd_array, n, window_size=2**13, h=2**11):\n",
    "    \"\"\" Changes the pitch of a sound by ``n`` semitones. \"\"\"\n",
    "    factor = 2**(1.0 * n / 12.0)\n",
    "    stretched = stretch(snd_array, 1.0/factor, window_size, h)\n",
    "    return speedx(stretched[window_size:], factor)"
   ]
  },
  {
   "cell_type": "code",
   "execution_count": 71,
   "metadata": {},
   "outputs": [
    {
     "name": "stderr",
     "output_type": "stream",
     "text": [
      "C:\\Users\\a1989\\Anaconda3\\lib\\site-packages\\ipykernel_launcher.py:22: ComplexWarning: Casting complex values to real discards the imaginary part\n"
     ]
    },
    {
     "data": {
      "image/png": "[encoded data removed]",
      "text/plain": [
       "<matplotlib.figure.Figure at 0x20d24d43240>"
      ]
     },
     "metadata": {},
     "output_type": "display_data"
    }
   ],
   "source": [
    "import librosa\n",
    "data, fs = librosa.load(\"a.wav\",sr=None)\n",
    "data5 = pitchshift(data,5)\n",
    "\n",
    "plt.plot(data)\n",
    "plt.show()\n",
    "data = data/max(data)\n",
    "data5 = data5/max(data5)\n",
    "\n",
    "data = data5\n",
    "data = 0.3*(data/max(data))\n",
    "p = pyaudio.PyAudio()\n",
    "stream = p.open(format = pyaudio.paFloat32, channels = 1, rate = fs, output = True)\n",
    "stream.write(data.astype(np.float32).tostring())"
   ]
  }
 ],
 "metadata": {
  "kernelspec": {
   "display_name": "Python 3",
   "language": "python",
   "name": "python3"
  }
 },
 "nbformat": 4,
 "nbformat_minor": 2
}
