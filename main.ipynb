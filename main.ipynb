{
 "cells": [
  {
   "cell_type": "code",
   "execution_count": 27,
   "metadata": {},
   "outputs": [
    {
     "name": "stdout",
     "output_type": "stream",
     "text": [
      "done\n"
     ]
    }
   ],
   "source": [
    "#chorus config\n",
    "import librosa\n",
    "import numpy as np\n",
    "import math\n",
    "fs = 11025\n",
    "delay_sec = 0.013\n",
    "depth =0.003\n",
    "mod_rate = 3.2  #Hz\n",
    "feedback = 0.3\n",
    "dry_wet = 0.4\n",
    "CHUNK = 4096\n",
    "FORMAT = pyaudio.paFloat32     # audio format (bytes per sample?)\n",
    "CHANNELS = 1                 # single channel for microphone\n",
    "\n",
    "delay_samples = np.round(delay_sec * fs)\n",
    "depth_samples = np.round(depth*fs);\n",
    "\n",
    "mod_arg = 2*3.1416*mod_rate/fs;\n",
    "print('done')"
   ]
  },
  {
   "cell_type": "code",
   "execution_count": 28,
   "metadata": {},
   "outputs": [
    {
     "name": "stdout",
     "output_type": "stream",
     "text": [
      "stream started\n"
     ]
    },
    {
     "name": "stderr",
     "output_type": "stream",
     "text": [
      "E:\\Anaconda\\lib\\site-packages\\ipykernel_launcher.py:23: DeprecationWarning: Numeric-style type codes are deprecated and will result in an error in the future.\n"
     ]
    },
    {
     "ename": "KeyboardInterrupt",
     "evalue": "",
     "output_type": "error",
     "traceback": [
      "\u001b[1;31m---------------------------------------------------------------------------\u001b[0m",
      "\u001b[1;31mKeyboardInterrupt\u001b[0m                         Traceback (most recent call last)",
      "\u001b[1;32m<ipython-input-28-cdfab50e1b80>\u001b[0m in \u001b[0;36m<module>\u001b[1;34m()\u001b[0m\n\u001b[0;32m     20\u001b[0m \u001b[1;32mwhile\u001b[0m \u001b[1;32mTrue\u001b[0m\u001b[1;33m:\u001b[0m\u001b[1;33m\u001b[0m\u001b[0m\n\u001b[0;32m     21\u001b[0m     \u001b[1;31m# binary data\u001b[0m\u001b[1;33m\u001b[0m\u001b[1;33m\u001b[0m\u001b[0m\n\u001b[1;32m---> 22\u001b[1;33m     \u001b[0mdata_byte\u001b[0m \u001b[1;33m=\u001b[0m \u001b[0mstream\u001b[0m\u001b[1;33m.\u001b[0m\u001b[0mread\u001b[0m\u001b[1;33m(\u001b[0m\u001b[0mCHUNK\u001b[0m\u001b[1;33m)\u001b[0m\u001b[1;33m\u001b[0m\u001b[0m\n\u001b[0m\u001b[0;32m     23\u001b[0m     \u001b[0mx\u001b[0m \u001b[1;33m=\u001b[0m \u001b[0mnp\u001b[0m\u001b[1;33m.\u001b[0m\u001b[0mfrombuffer\u001b[0m\u001b[1;33m(\u001b[0m\u001b[0mdata_byte\u001b[0m\u001b[1;33m,\u001b[0m \u001b[1;34m'Float32'\u001b[0m\u001b[1;33m)\u001b[0m\u001b[1;33m;\u001b[0m\u001b[1;33m\u001b[0m\u001b[0m\n\u001b[0;32m     24\u001b[0m \u001b[1;33m\u001b[0m\u001b[0m\n",
      "\u001b[1;32mE:\\Anaconda\\lib\\site-packages\\pyaudio.py\u001b[0m in \u001b[0;36mread\u001b[1;34m(self, num_frames, exception_on_overflow)\u001b[0m\n\u001b[0;32m    606\u001b[0m                           paCanNotReadFromAnOutputOnlyStream)\n\u001b[0;32m    607\u001b[0m \u001b[1;33m\u001b[0m\u001b[0m\n\u001b[1;32m--> 608\u001b[1;33m         \u001b[1;32mreturn\u001b[0m \u001b[0mpa\u001b[0m\u001b[1;33m.\u001b[0m\u001b[0mread_stream\u001b[0m\u001b[1;33m(\u001b[0m\u001b[0mself\u001b[0m\u001b[1;33m.\u001b[0m\u001b[0m_stream\u001b[0m\u001b[1;33m,\u001b[0m \u001b[0mnum_frames\u001b[0m\u001b[1;33m,\u001b[0m \u001b[0mexception_on_overflow\u001b[0m\u001b[1;33m)\u001b[0m\u001b[1;33m\u001b[0m\u001b[0m\n\u001b[0m\u001b[0;32m    609\u001b[0m \u001b[1;33m\u001b[0m\u001b[0m\n\u001b[0;32m    610\u001b[0m     \u001b[1;32mdef\u001b[0m \u001b[0mget_read_available\u001b[0m\u001b[1;33m(\u001b[0m\u001b[0mself\u001b[0m\u001b[1;33m)\u001b[0m\u001b[1;33m:\u001b[0m\u001b[1;33m\u001b[0m\u001b[0m\n",
      "\u001b[1;31mKeyboardInterrupt\u001b[0m: "
     ]
    }
   ],
   "source": [
    "\n",
    "# pyaudio class instance\n",
    "p = pyaudio.PyAudio()\n",
    "# stream object to get data from microphone\n",
    "stream = p.open(\n",
    "    format=FORMAT,\n",
    "    channels=CHANNELS,\n",
    "    rate=fs,\n",
    "    input=True,\n",
    "    output=True,\n",
    "    frames_per_buffer=CHUNK\n",
    ")\n",
    "\n",
    "print('stream started')\n",
    "# for measuring frame rate\n",
    "frame_count = 0\n",
    "delay_chnl = np.zeros([CHUNK,1]);\n",
    "delay_buf = np.zeros([int(delay_samples+depth_samples)])\n",
    "prev_i = 0;\n",
    "while True:\n",
    "    # binary data\n",
    "    data_byte = stream.read(CHUNK)  \n",
    "    x = np.frombuffer(data_byte, 'Float32');\n",
    "\n",
    "#     convert data to integers, make np array, then offset it by 127\n",
    "    \n",
    "    for i in range(len(x)):\n",
    "    #   math sin is faster than np sin\n",
    "        modulated_sample = depth_samples*math.sin(mod_arg*(i)+prev_i)\n",
    "        modulated_sample += (delay_samples-1)\n",
    "#       interpolate\n",
    "        interp1 =delay_buf[math.floor(modulated_sample)];\n",
    "#         interp2 =delay_buf[math.ceil(modulated_sample)];\n",
    "#         query_sample = math.modf(modulated_sample)[0] #get decimal part\n",
    "        delay_chnl[i] = interp1\n",
    "        new_sample= x[i]+delay_chnl[i]*feedback;\n",
    "        delay_buf[-1] = new_sample\n",
    "        delay_buf = np.roll(delay_buf,1)\n",
    "    prev_i = (mod_arg*(i)+prev_i)%(3.1416*2)\n",
    "    out = ((1-dry_wet)*x)+(dry_wet*delay_chnl.flatten())\n",
    "    encoded =  out.astype('float32').tobytes()\n",
    "    \n",
    "    stream.write(encoded)\n",
    "\n",
    "stream.stop_stream() # pause audio stream\n",
    "stream.close() # close audio stream"
   ]
  },
  {
   "cell_type": "code",
   "execution_count": 62,
   "metadata": {
    "collapsed": true
   },
   "outputs": [],
   "source": [
    "stream.close()\n",
    "p.terminate()"
   ]
  },
  {
   "cell_type": "code",
   "execution_count": 45,
   "metadata": {},
   "outputs": [
    {
     "name": "stdout",
     "output_type": "stream",
     "text": [
      "9.265358966049026e-05\n"
     ]
    }
   ],
   "source": [
    "z = np.array([])\n",
    "a = np.array([1,2])\n",
    "z = np.concatenate((z,a))\n",
    "print(math.sin(3.1415))"
   ]
  },
  {
   "cell_type": "code",
   "execution_count": 22,
   "metadata": {},
   "outputs": [
    {
     "data": {
      "image/png": "[encoded data removed]",
      "text/plain": [
       "<Figure size 432x288 with 1 Axes>"
      ]
     },
     "metadata": {},
     "output_type": "display_data"
    }
   ],
   "source": [
    "import matplotlib.pyplot as plt\n",
    "import sounddevice as sd\n",
    "plt.plot(z)\n",
    "plt.show()\n",
    "\n",
    "\n",
    "sd.play(z, fs)"
   ]
  },
  {
   "cell_type": "code",
   "execution_count": 48,
   "metadata": {},
   "outputs": [
    {
     "data": {
      "image/png": "[encoded data removed]",
      "text/plain": [
       "<matplotlib.figure.Figure at 0x2b3870d0518>"
      ]
     },
     "metadata": {},
     "output_type": "display_data"
    }
   ],
   "source": [
    "import matplotlib.pyplot as plt\n",
    "plt.plot(delay_buf)\n",
    "plt.show()"
   ]
  },
  {
   "cell_type": "code",
   "execution_count": 16,
   "metadata": {},
   "outputs": [
    {
     "name": "stdout",
     "output_type": "stream",
     "text": [
      "(4096,)\n",
      "(4096,)\n",
      "(4096,)\n",
      "(4096,)\n",
      "(4096,)\n",
      "(4096,)\n",
      "(4096,)\n",
      "(4096,)\n",
      "(4096,)\n",
      "(4096,)\n"
     ]
    }
   ],
   "source": [
    "import pyaudio\n",
    "import numpy as np\n",
    "\n",
    "CHUNK = 4096 # number of data points to read at a time\n",
    "fs = 44100 # time resolution of the recording device (Hz)\n",
    "\n",
    "p=pyaudio.PyAudio() # start the PyAudio class\n",
    "stream=p.open(format=pyaudio.paInt16,channels=1,rate=fs,input=True,\n",
    "              frames_per_buffer=CHUNK) #uses default input device\n",
    "\n",
    "# create a numpy array holding a single read of audio data\n",
    "for i in range(10): #to it a few times just to see\n",
    "    data = np.fromstring(stream.read(CHUNK),dtype=np.int16)\n",
    "    print(data.shape)\n",
    "\n",
    "# close the stream gracefully\n",
    "stream.stop_stream()\n",
    "stream.close()\n",
    "p.terminate()"
   ]
  },
  {
   "cell_type": "code",
   "execution_count": 15,
   "metadata": {},
   "outputs": [
    {
     "ename": "NameError",
     "evalue": "name 'pitchshift' is not defined",
     "output_type": "error",
     "traceback": [
      "\u001b[1;31m---------------------------------------------------------------------------\u001b[0m",
      "\u001b[1;31mNameError\u001b[0m                                 Traceback (most recent call last)",
      "\u001b[1;32m<ipython-input-15-26635889bbdb>\u001b[0m in \u001b[0;36m<module>\u001b[1;34m()\u001b[0m\n\u001b[0;32m      1\u001b[0m \u001b[1;32mimport\u001b[0m \u001b[0mlibrosa\u001b[0m\u001b[1;33m\u001b[0m\u001b[0m\n\u001b[0;32m      2\u001b[0m \u001b[0mdata\u001b[0m\u001b[1;33m,\u001b[0m \u001b[0mfs\u001b[0m \u001b[1;33m=\u001b[0m \u001b[0mlibrosa\u001b[0m\u001b[1;33m.\u001b[0m\u001b[0mload\u001b[0m\u001b[1;33m(\u001b[0m\u001b[1;34m\"a.wav\"\u001b[0m\u001b[1;33m,\u001b[0m\u001b[0msr\u001b[0m\u001b[1;33m=\u001b[0m\u001b[1;32mNone\u001b[0m\u001b[1;33m)\u001b[0m\u001b[1;33m\u001b[0m\u001b[0m\n\u001b[1;32m----> 3\u001b[1;33m \u001b[0mdata5\u001b[0m \u001b[1;33m=\u001b[0m \u001b[0mpitchshift\u001b[0m\u001b[1;33m(\u001b[0m\u001b[0mdata\u001b[0m\u001b[1;33m,\u001b[0m\u001b[1;36m5\u001b[0m\u001b[1;33m)\u001b[0m\u001b[1;33m\u001b[0m\u001b[0m\n\u001b[0m\u001b[0;32m      4\u001b[0m \u001b[1;33m\u001b[0m\u001b[0m\n\u001b[0;32m      5\u001b[0m \u001b[0mplt\u001b[0m\u001b[1;33m.\u001b[0m\u001b[0mplot\u001b[0m\u001b[1;33m(\u001b[0m\u001b[0mdata\u001b[0m\u001b[1;33m)\u001b[0m\u001b[1;33m\u001b[0m\u001b[0m\n",
      "\u001b[1;31mNameError\u001b[0m: name 'pitchshift' is not defined"
     ]
    }
   ],
   "source": [
    "import librosa\n",
    "data, fs = librosa.load(\"a.wav\",sr=None)\n",
    "data5 = pitchshift(data,5)\n",
    "\n",
    "plt.plot(data)\n",
    "plt.show()\n",
    "data = data/max(data)\n",
    "data5 = data5/max(data5)\n",
    "\n",
    "data = data5\n",
    "data = 0.3*(data/max(data))\n",
    "p = pyaudio.PyAudio()\n",
    "stream = p.open(format = pyaudio.paFloat32, channels = 1, rate = fs, output = True)\n",
    "stream.write(data.astype(np.float32).tostring())"
   ]
  }
 ],
 "metadata": {
  "kernelspec": {
   "display_name": "Python 3",
   "language": "python",
   "name": "python3"
  },
  "language_info": {
   "codemirror_mode": {
    "name": "ipython",
    "version": 3
   },
   "file_extension": ".py",
   "mimetype": "text/x-python",
   "name": "python",
   "nbconvert_exporter": "python",
   "pygments_lexer": "ipython3",
   "version": "3.6.1"
  }
 },
 "nbformat": 4,
 "nbformat_minor": 2
}
